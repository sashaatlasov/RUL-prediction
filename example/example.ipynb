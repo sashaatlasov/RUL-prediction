{
 "cells": [
  {
   "cell_type": "code",
   "execution_count": 1,
   "id": "58968975-d835-43b5-948a-32cccc565d7e",
   "metadata": {},
   "outputs": [
    {
     "name": "stdout",
     "output_type": "stream",
     "text": [
      "Found existing installation: rulprediction 1.0\n",
      "Uninstalling rulprediction-1.0:\n",
      "  Successfully uninstalled rulprediction-1.0\n"
     ]
    }
   ],
   "source": [
    "!pip uninstall rulprediction --yes"
   ]
  },
  {
   "cell_type": "code",
   "execution_count": 2,
   "id": "39a9d7fb-9b67-474f-810c-1d1e6ca8084f",
   "metadata": {},
   "outputs": [
    {
     "name": "stdout",
     "output_type": "stream",
     "text": [
      "Collecting git+https://github.com/sashaatlasov/RUL-Prediction.git\n",
      "  Cloning https://github.com/sashaatlasov/RUL-Prediction.git to /private/var/folders/cr/12mnwryn4bj3dhrct6_xvw340000gn/T/pip-req-build-cciikz2i\n",
      "  Running command git clone --filter=blob:none --quiet https://github.com/sashaatlasov/RUL-Prediction.git /private/var/folders/cr/12mnwryn4bj3dhrct6_xvw340000gn/T/pip-req-build-cciikz2i\n",
      "  Resolved https://github.com/sashaatlasov/RUL-Prediction.git to commit 71e626f695321c94a68b7bbac515194cfe198789\n",
      "  Preparing metadata (setup.py) ... \u001b[?25ldone\n",
      "\u001b[?25hBuilding wheels for collected packages: rulprediction\n",
      "  Building wheel for rulprediction (setup.py) ... \u001b[?25ldone\n",
      "\u001b[?25h  Created wheel for rulprediction: filename=rulprediction-1.0-py3-none-any.whl size=8881 sha256=f67369c7dd1349b09004a25720cd305eaac2a7faedf0d7e59c9c266a4c8071e9\n",
      "  Stored in directory: /private/var/folders/cr/12mnwryn4bj3dhrct6_xvw340000gn/T/pip-ephem-wheel-cache-xu3glqsr/wheels/d9/26/2f/4a379e714991d395b358c8aebe5b708c26e61c28df8e5e8036\n",
      "Successfully built rulprediction\n",
      "Installing collected packages: rulprediction\n",
      "Successfully installed rulprediction-1.0\n"
     ]
    }
   ],
   "source": [
    "!pip install git+https://github.com/sashaatlasov/RUL-Prediction.git"
   ]
  },
  {
   "cell_type": "code",
   "execution_count": 3,
   "id": "0410c6d9-95b8-4cde-9c35-12a254434f00",
   "metadata": {},
   "outputs": [],
   "source": [
    "import numpy as np\n",
    "import scipy.io as sio\n",
    "from sklearn.model_selection import train_test_split\n",
    "\n",
    "import torch\n",
    "from torch import nn\n",
    "import torch.nn.functional as F\n",
    "from torch.utils.data.dataset import Dataset"
   ]
  },
  {
   "cell_type": "code",
   "execution_count": 4,
   "id": "2f6ea706-19cf-450b-b1ae-6a01c52a5114",
   "metadata": {},
   "outputs": [],
   "source": [
    "class CMAPSS(Dataset):\n",
    "    \n",
    "    def __init__(self, X, y):\n",
    "        self.X = X\n",
    "        self.y = y\n",
    "        \n",
    "    def __len__(self):\n",
    "        return self.X.shape[0]\n",
    "\n",
    "    def __getitem__(self, idx):\n",
    "        target = torch.tensor(self.y[idx], dtype=torch.float32)\n",
    "        sensors = torch.tensor(self.X[idx], dtype=torch.float32)\n",
    "        return target, sensors.squeeze(-1)"
   ]
  },
  {
   "cell_type": "code",
   "execution_count": 5,
   "id": "b0540cbf-6494-4b9b-8aa7-1f5878c3b103",
   "metadata": {},
   "outputs": [],
   "source": [
    "def get_data(k):\n",
    "    X_train = sio.loadmat(f'data/F00{k}/trainX.mat')['trainX']\n",
    "    X_test = sio.loadmat(f'data/F00{k}/testX.mat')['testX']\n",
    "\n",
    "    y_train = sio.loadmat(f'data/F00{k}/trainY.mat')['trainY'].T\n",
    "    y_test = sio.loadmat(f'data/F00{k}/testY.mat')['testY'].T\n",
    "    \n",
    "    X_train, X_val, y_train, y_val = train_test_split(X_train, y_train, test_size=.2, random_state=1)\n",
    "    \n",
    "    train_data = CMAPSS(X_train, y_train) \n",
    "    val_data = CMAPSS(X_val, y_val) \n",
    "    test_data = CMAPSS(X_test, y_test) \n",
    "                        \n",
    "    train_loader = torch.utils.data.DataLoader(dataset=train_data, batch_size=256, shuffle=True)\n",
    "    val_loader = torch.utils.data.DataLoader(dataset=val_data, batch_size=256)\n",
    "    test_loader = torch.utils.data.DataLoader(dataset=test_data, batch_size=256)\n",
    "                        \n",
    "    return train_loader, val_loader, test_loader"
   ]
  },
  {
   "cell_type": "code",
   "execution_count": 6,
   "id": "3dd5c238-e8f5-4560-89c6-a010f862fa02",
   "metadata": {},
   "outputs": [],
   "source": [
    "from rulpred.RULprediction import RULpredictor\n",
    "from rulpred.training import *\n",
    "\n",
    "from hparams import config\n",
    "\n",
    "def main(k, device='cpu', num_epochs=100):\n",
    "    if k % 2 == 0:\n",
    "        win_size = 60\n",
    "    else:\n",
    "        win_size = 40\n",
    "        \n",
    "    model = RULpredictor(win_size)\n",
    "    model.to(device)\n",
    "\n",
    "    optim = torch.optim.Adam(model.parameters(), lr=config[\"learning_rate_start\"])\n",
    "    train_dataloader, val_dataloader, test_dataloader = get_data(k)\n",
    "\n",
    "    for i in range(1, config[\"epochs\"] + 1):\n",
    "        loss = train_epoch(model, train_dataloader, optim, device=device)\n",
    "        if i % 5 == 0:\n",
    "            val_loss = validate(model, val_dataloader, device)\n",
    "    test_loss = validate(model, test_dataloader, device)\n",
    "    #torch.save(model, f'checkpoints/Model_F00{k}.pth')"
   ]
  },
  {
   "cell_type": "code",
   "execution_count": 7,
   "id": "8163ed6a-74c7-4503-a085-b2ade4dd0703",
   "metadata": {},
   "outputs": [
    {
     "ename": "NameError",
     "evalue": "name 'dec_seq_len' is not defined",
     "output_type": "error",
     "traceback": [
      "\u001b[0;31m---------------------------------------------------------------------------\u001b[0m",
      "\u001b[0;31mNameError\u001b[0m                                 Traceback (most recent call last)",
      "Cell \u001b[0;32mIn[7], line 1\u001b[0m\n\u001b[0;32m----> 1\u001b[0m \u001b[43mmain\u001b[49m\u001b[43m(\u001b[49m\u001b[38;5;241;43m1\u001b[39;49m\u001b[43m)\u001b[49m\n",
      "Cell \u001b[0;32mIn[6], line 12\u001b[0m, in \u001b[0;36mmain\u001b[0;34m(k, device, num_epochs)\u001b[0m\n\u001b[1;32m      9\u001b[0m \u001b[38;5;28;01melse\u001b[39;00m:\n\u001b[1;32m     10\u001b[0m     win_size \u001b[38;5;241m=\u001b[39m \u001b[38;5;241m40\u001b[39m\n\u001b[0;32m---> 12\u001b[0m model \u001b[38;5;241m=\u001b[39m \u001b[43mRULpredictor\u001b[49m\u001b[43m(\u001b[49m\u001b[43mwin_size\u001b[49m\u001b[43m)\u001b[49m\n\u001b[1;32m     13\u001b[0m model\u001b[38;5;241m.\u001b[39mto(device)\n\u001b[1;32m     15\u001b[0m optim \u001b[38;5;241m=\u001b[39m torch\u001b[38;5;241m.\u001b[39moptim\u001b[38;5;241m.\u001b[39mAdam(model\u001b[38;5;241m.\u001b[39mparameters(), lr\u001b[38;5;241m=\u001b[39mconfig[\u001b[38;5;124m\"\u001b[39m\u001b[38;5;124mlearning_rate_start\u001b[39m\u001b[38;5;124m\"\u001b[39m])\n",
      "File \u001b[0;32m/opt/anaconda3/lib/python3.8/site-packages/rulpred/RULprediction.py:22\u001b[0m, in \u001b[0;36mRULpredictor.__init__\u001b[0;34m(self, window_size, betas, num_timesteps, rul_max)\u001b[0m\n\u001b[1;32m     16\u001b[0m \u001b[38;5;28mself\u001b[39m\u001b[38;5;241m.\u001b[39mrul_max \u001b[38;5;241m=\u001b[39m rul_max\n\u001b[1;32m     18\u001b[0m \u001b[38;5;28mself\u001b[39m\u001b[38;5;241m.\u001b[39mtransformer \u001b[38;5;241m=\u001b[39m DAST(time_step\u001b[38;5;241m=\u001b[39mwindow_size \u001b[38;5;241m+\u001b[39m \u001b[38;5;241m2\u001b[39m, \n\u001b[1;32m     19\u001b[0m                         input_size\u001b[38;5;241m=\u001b[39m\u001b[38;5;241m14\u001b[39m, dec_seq_len\u001b[38;5;241m=\u001b[39m\u001b[38;5;241m4\u001b[39m)\n\u001b[1;32m     21\u001b[0m \u001b[38;5;28mself\u001b[39m\u001b[38;5;241m.\u001b[39meps_theta \u001b[38;5;241m=\u001b[39m ConditionalGuidedModel(num_timesteps\u001b[38;5;241m=\u001b[39mnum_timesteps, \n\u001b[0;32m---> 22\u001b[0m                                         data_dim\u001b[38;5;241m=\u001b[39m\u001b[43mdec_seq_len\u001b[49m \u001b[38;5;241m*\u001b[39m \u001b[38;5;28mself\u001b[39m\u001b[38;5;241m.\u001b[39mtransformer\u001b[38;5;241m.\u001b[39mdim_val)\n\u001b[1;32m     24\u001b[0m \u001b[38;5;28mself\u001b[39m\u001b[38;5;241m.\u001b[39mdiffusion \u001b[38;5;241m=\u001b[39m DiffusionModel(\u001b[38;5;28mself\u001b[39m\u001b[38;5;241m.\u001b[39meps_theta, betas\u001b[38;5;241m=\u001b[39mbetas, num_timesteps\u001b[38;5;241m=\u001b[39mnum_timesteps)\n",
      "\u001b[0;31mNameError\u001b[0m: name 'dec_seq_len' is not defined"
     ]
    }
   ],
   "source": [
    "main(1)"
   ]
  },
  {
   "cell_type": "code",
   "execution_count": null,
   "id": "5c231b0a-ddde-41d0-b986-10b075412686",
   "metadata": {},
   "outputs": [],
   "source": []
  },
  {
   "cell_type": "code",
   "execution_count": null,
   "id": "b3605a00-9cb0-48c5-9e76-e692e6155b5a",
   "metadata": {},
   "outputs": [],
   "source": []
  }
 ],
 "metadata": {
  "kernelspec": {
   "display_name": "Python 3 (ipykernel)",
   "language": "python",
   "name": "python3"
  },
  "language_info": {
   "codemirror_mode": {
    "name": "ipython",
    "version": 3
   },
   "file_extension": ".py",
   "mimetype": "text/x-python",
   "name": "python",
   "nbconvert_exporter": "python",
   "pygments_lexer": "ipython3",
   "version": "3.8.18"
  }
 },
 "nbformat": 4,
 "nbformat_minor": 5
}
